{
 "cells": [
  {
   "cell_type": "markdown",
   "metadata": {},
   "source": [
    "# Working with the Grader on the WQET Platform"
   ]
  },
  {
   "cell_type": "code",
   "execution_count": 1,
   "metadata": {
    "tags": [],
    "vscode": {
     "languageId": "plaintext"
    }
   },
   "outputs": [
    {
     "data": {
      "text/html": [
       "\n",
       "<style>\n",
       "  \n",
       "  .checkmark {\n",
       "    width: 56px;\n",
       "    height: 56px;\n",
       "    border-radius: 50%;\n",
       "    display: block;\n",
       "    stroke-width: 2;\n",
       "    stroke: #fff;\n",
       "    stroke-miterlimit: 10;\n",
       "    box-shadow: inset 0px 0px 0px #7ac142;\n",
       "    animation: fill .4s ease-in-out .4s forwards, scale .3s ease-in-out .9s both;\n",
       "  }\n",
       "  \n",
       "  .checkmark__circle {\n",
       "    stroke-dasharray: 166;\n",
       "    stroke-dashoffset: 166;\n",
       "    stroke-width: 2;\n",
       "    stroke-miterlimit: 10;\n",
       "    stroke: #7ac142;\n",
       "    fill: none;\n",
       "    animation: stroke .6s cubic-bezier(0.650, 0.000, 0.450, 1.000) forwards;\n",
       "  }\n",
       "  \n",
       "  .checkmark__check {\n",
       "    transform-origin: 50% 50%;\n",
       "    stroke-dasharray: 48;\n",
       "    stroke-dashoffset: 48;\n",
       "    animation: stroke .3s cubic-bezier(0.650, 0.000, 0.450, 1.000) .8s forwards;\n",
       "  }\n",
       "  \n",
       "  .failmark {\n",
       "    width: 56px;\n",
       "    height: 56px;\n",
       "    border-radius: 50%;\n",
       "    display: block;\n",
       "    stroke-width: 2;\n",
       "    stroke: #fff;\n",
       "    stroke-miterlimit: 10;\n",
       "    box-shadow: inset 0px 0px 0px #F34811;\n",
       "    animation: failfill .4s ease-in-out .4s forwards, scale .3s ease-in-out .9s both;\n",
       "  }\n",
       "  \n",
       "  .failmark__circle {\n",
       "    stroke-dasharray: 166;\n",
       "    stroke-dashoffset: 166;\n",
       "    stroke-width: 2;\n",
       "    stroke-miterlimit: 10;\n",
       "    stroke: #F34811;\n",
       "    fill: none;\n",
       "    animation: stroke .6s cubic-bezier(0.650, 0.000, 0.450, 1.000) forwards;\n",
       "  }\n",
       "  \n",
       "  @keyframes stroke {\n",
       "    100% {\n",
       "      stroke-dashoffset: 0;\n",
       "    }\n",
       "  }\n",
       "  \n",
       "  @keyframes scale {\n",
       "    0%, 100% {\n",
       "      transform: none;\n",
       "    }\n",
       "    50% {\n",
       "      transform: scale3d(1.1, 1.1, 1);\n",
       "    }\n",
       "  }\n",
       "  \n",
       "  @keyframes fill {\n",
       "    100% {\n",
       "      box-shadow: inset 0px 0px 0px 30px #7ac142;\n",
       "    }\n",
       "  }\n",
       "  \n",
       "  @keyframes failfill {\n",
       "    100% {\n",
       "      box-shadow: inset 0px 0px 0px 30px #F34811;\n",
       "    }\n",
       "  }\n",
       "  \n",
       "  \n",
       "  .wqet-result {\n",
       "    width: 450px;\n",
       "    clear: both;\n",
       "  }\n",
       "  \n",
       "  .wqet-result .animation {\n",
       "    float: left;\n",
       "    width: 100px;\n",
       "  }\n",
       "  \n",
       "  .wqet-result .animation .checkmark,\n",
       "  .wqet-result .animation .failmark {\n",
       "    margin: 20px auto 20px auto;\n",
       "  }\n",
       "  \n",
       "  .wqet-result .details {\n",
       "    float: right;\n",
       "    width: 349px;\n",
       "    padding: 28px 0;\n",
       "  }\n",
       "  \n",
       "  .wqet-result .details .title {\n",
       "    font-weight: bold;\n",
       "    font-size: 110%;\n",
       "  }\n",
       "  .wqet-result .details p {\n",
       "    margin: 0;\n",
       "  }\n",
       "</style>\n"
      ],
      "text/plain": [
       "<IPython.core.display.HTML object>"
      ]
     },
     "metadata": {},
     "output_type": "display_data"
    }
   ],
   "source": [
    "import wqet_grader\n",
    "\n",
    "wqet_grader.init(\"Lesson Assessment\")"
   ]
  },
  {
   "cell_type": "markdown",
   "metadata": {},
   "source": [
    "## Grader for a Python Data Class"
   ]
  },
  {
   "cell_type": "markdown",
   "metadata": {},
   "source": [
    "To evaluate a standard Python data class, we use the `PythonGrader` class. You can check out the documentation [here](https://worldquant-university.github.io/grading-tools/reference/#grading_tools.graders.PythonGrader)."
   ]
  },
  {
   "cell_type": "markdown",
   "metadata": {},
   "source": [
    "### Example"
   ]
  },
  {
   "cell_type": "markdown",
   "metadata": {},
   "source": [
    "**Task 1:** Create a `list` with the integers 0 through 10 (inclusive). Assign the result to the variable `my_list`."
   ]
  },
  {
   "cell_type": "code",
   "execution_count": 5,
   "metadata": {
    "tags": []
   },
   "outputs": [
    {
     "name": "stdout",
     "output_type": "stream",
     "text": [
      "my_list type: <class 'list'>\n",
      "my_list elements: [0, 1, 2, 3, 4, 5, 6, 7, 8, 9, 10]\n"
     ]
    }
   ],
   "source": [
    "my_list = list(range(11))\n",
    "\n",
    "print(\"my_list type:\", type(my_list))\n",
    "print(\"my_list elements:\", my_list)"
   ]
  },
  {
   "cell_type": "code",
   "execution_count": 6,
   "metadata": {
    "tags": []
   },
   "outputs": [
    {
     "data": {
      "text/html": [
       "\n",
       "    <div class=\"wqet-result\">\n",
       "      <div class=\"animation\">\n",
       "        <svg class=\"checkmark\" xmlns=\"http://www.w3.org/2000/svg\" viewBox=\"0 0 52 52\">\n",
       "          <circle class=\"checkmark__circle\" cx=\"26\" cy=\"26\" r=\"25\" fill=\"none\"/>\n",
       "          <path class=\"checkmark__check\" fill=\"none\" d=\"M14.1 27.2l7.1 7.2 16.7-16.8\"/>\n",
       "        </svg>\n",
       "      </div>\n",
       "      <div class=\"details\">\n",
       "        <p class=\"title\"><p>Wow, you're making great progress.</p></p>\n",
       "        <p>Score: 1</p>\n",
       "      </div>\n",
       "    </div>\n"
      ],
      "text/plain": [
       "<IPython.core.display.HTML object>"
      ]
     },
     "metadata": {},
     "output_type": "display_data"
    }
   ],
   "source": [
    "wqet_grader.grade(\"Lesson Assessment\", \"Task 1\", my_list)"
   ]
  },
  {
   "cell_type": "markdown",
   "metadata": {},
   "source": [
    "### Group Exercise"
   ]
  },
  {
   "cell_type": "markdown",
   "metadata": {},
   "source": [
    "Create a task `\"Task 2\"` where the student needs to submit the following list `[10.1, 9.9, 8.8. 7.7]`."
   ]
  },
  {
   "cell_type": "code",
   "execution_count": null,
   "metadata": {},
   "outputs": [],
   "source": []
  }
 ],
 "metadata": {
  "kernelspec": {
   "display_name": "Python 3 (ipykernel)",
   "language": "python",
   "name": "python3"
  },
  "language_info": {
   "codemirror_mode": {
    "name": "ipython",
    "version": 3
   },
   "file_extension": ".py",
   "mimetype": "text/x-python",
   "name": "python",
   "nbconvert_exporter": "python",
   "pygments_lexer": "ipython3",
   "version": "3.11.4"
  }
 },
 "nbformat": 4,
 "nbformat_minor": 4
}
